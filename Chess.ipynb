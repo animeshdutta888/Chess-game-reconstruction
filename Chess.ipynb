{
 "cells": [
  {
   "cell_type": "code",
   "execution_count": null,
   "metadata": {
    "scrolled": true
   },
   "outputs": [],
   "source": []
  },
  {
   "cell_type": "code",
   "execution_count": null,
   "metadata": {},
   "outputs": [],
   "source": []
  },
  {
   "cell_type": "code",
   "execution_count": 11,
   "metadata": {},
   "outputs": [],
   "source": [
    "import numpy as np\n",
    "import cv2\n",
    "from matplotlib import pyplot as plt\n",
    "\n",
    "\n",
    "# Load an color image in grayscale\n",
    "img = cv2.imread('chess1.jpg',0)"
   ]
  },
  {
   "cell_type": "code",
   "execution_count": null,
   "metadata": {},
   "outputs": [],
   "source": []
  },
  {
   "cell_type": "code",
   "execution_count": 12,
   "metadata": {},
   "outputs": [
    {
     "data": {
      "image/png": "[encoded data removed]",
      "text/plain": [
       "<Figure size 432x288 with 4 Axes>"
      ]
     },
     "metadata": {},
     "output_type": "display_data"
    }
   ],
   "source": [
    "\n",
    "img = cv2.imread('chess1.jpg',0)\n",
    "img = cv2.medianBlur(img,5)\n",
    "\n",
    "ret,th1 = cv2.threshold(img,127,255,cv2.THRESH_BINARY)\n",
    "th2 = cv2.adaptiveThreshold(img,255,cv2.ADAPTIVE_THRESH_MEAN_C,\\\n",
    "            cv2.THRESH_BINARY,11,2)\n",
    "th3 = cv2.adaptiveThreshold(img,255,cv2.ADAPTIVE_THRESH_GAUSSIAN_C,\\\n",
    "            cv2.THRESH_BINARY,11,2)\n",
    "\n",
    "titles = ['Original Image', 'Global Thresholding (v = 127)',\n",
    "            'Adaptive Mean Thresholding', 'Adaptive Gaussian Thresholding']\n",
    "images = [img, th1, th2, th3]\n",
    "\n",
    "for i in range(4):\n",
    "    plt.subplot(2,2,i+1),plt.imshow(images[i],'gray')\n",
    "    plt.title(titles[i])\n",
    "    plt.xticks([]),plt.yticks([])\n",
    "plt.show()\n"
   ]
  },
  {
   "cell_type": "code",
   "execution_count": 16,
   "metadata": {},
   "outputs": [],
   "source": [
    "g=cv2.imwrite(\"Thres.jpg\",th2)"
   ]
  },
  {
   "cell_type": "code",
   "execution_count": 7,
   "metadata": {},
   "outputs": [
    {
     "data": {
      "text/plain": [
       "<Figure size 640x480 with 2 Axes>"
      ]
     },
     "metadata": {},
     "output_type": "display_data"
    }
   ],
   "source": [
    "import numpy as np\n",
    "import cv2 as cv\n",
    "from matplotlib import pyplot as plt\n",
    "img1 = cv.imread('chess.jpg',0)\n",
    "img = cv2.GaussianBlur(img1,(5,5),0)\n",
    "\n",
    "edges = cv.Canny(img,400,400)\n",
    "plt.subplot(121),plt.imshow(img,cmap = 'gray')\n",
    "plt.title('Original Image'), plt.xticks([]), plt.yticks([])\n",
    "plt.subplot(122),plt.imshow(edges,cmap = 'gray')\n",
    "plt.title('Edge Image'), plt.xticks([]), plt.yticks([])\n",
    "plt.show()\n",
    "k1=cv2.imwrite(\"ed.jpg\",edges)"
   ]
  },
  {
   "cell_type": "code",
   "execution_count": 8,
   "metadata": {},
   "outputs": [
    {
     "data": {
      "text/plain": [
       "True"
      ]
     },
     "execution_count": 8,
     "metadata": {},
     "output_type": "execute_result"
    }
   ],
   "source": [
    "import cv2\n",
    "import numpy as np\n",
    "\n",
    "img = cv2.imread('ed.jpg')\n",
    "gray = cv2.cvtColor(img,cv2.COLOR_BGR2GRAY)\n",
    "edges = cv2.Canny(gray,50,150,apertureSize = 3)\n",
    "minLineLength = 100\n",
    "maxLineGap = 10\n",
    "lines = cv2.HoughLinesP(edges,1,np.pi/180,100,minLineLength,maxLineGap)\n",
    "for line in lines:\n",
    "    for x1,y1,x2,y2 in line:\n",
    "        cv2.line(img,(x1,y1),(x2,y2),(0,255,0),2)\n",
    "\n",
    "cv2.imwrite('houghlines5.jpg',img)"
   ]
  },
  {
   "cell_type": "code",
   "execution_count": 9,
   "metadata": {},
   "outputs": [
    {
     "data": {
      "text/plain": [
       "True"
      ]
     },
     "execution_count": 9,
     "metadata": {},
     "output_type": "execute_result"
    }
   ],
   "source": [
    "img = cv2.imread('ed.jpg')\n",
    "\n",
    "gray = cv2.cvtColor(img,cv2.COLOR_BGR2GRAY)\n",
    "edges = cv2.Canny(gray,150,200,apertureSize = 3)\n",
    "\n",
    "lines = cv2.HoughLines(edges,1,np.pi/180,200)\n",
    "for line in lines:\n",
    "\n",
    "    for rho,theta in line:\n",
    "        a = np.cos(theta)\n",
    "        b = np.sin(theta)\n",
    "        x0 = a*rho\n",
    "        y0 = b*rho\n",
    "        x1 = int(x0 + 1000*(-b))\n",
    "        y1 = int(y0 + 1000*(a))\n",
    "        x2 = int(x0 - 1000*(-b))\n",
    "        y2 = int(y0 - 1000*(a))\n",
    "        \n",
    "\n",
    "        cv2.line(img,(x1,y1),(x2,y2),(0,0,255),2)\n",
    "\n",
    "cv2.imwrite('houghlines3.jpg',img)"
   ]
  },
  {
   "cell_type": "code",
   "execution_count": 211,
   "metadata": {},
   "outputs": [],
   "source": [
    "import numpy as np\n",
    "import scipy.spatial as spatial\n",
    "import scipy.cluster as clstr\n",
    "from time import time\n",
    "from collections import defaultdict\n",
    "from functools import partial\n",
    "from sklearn.utils import shuffle\n",
    "import os, glob, skimage, cv2, shutil\n",
    "\n",
    "SQUARE_SIDE_LENGTH = 227\n",
    "categories = ['bb', 'bk', 'bn', 'bp', 'bq', 'br', 'empty', 'wb', 'wk', 'wn', 'wp', 'wq', 'wr']\n"
   ]
  },
  {
   "cell_type": "code",
   "execution_count": 212,
   "metadata": {},
   "outputs": [],
   "source": [
    "def auto_canny(image, sigma=0.33):\n",
    "    \"\"\"\n",
    "    Canny edge detection with automatic thresholds.\n",
    "    \"\"\"\n",
    "    # compute the median of the single channel pixel intensities\n",
    "    v = np.median(image)\n",
    " \n",
    "    # apply automatic Canny edge detection using the computed median\n",
    "    lower = int(max(0, (1.0 - sigma) * v))\n",
    "    upper = int(min(255, (1.0 + sigma) * v))\n",
    "    edged = cv2.Canny(image, lower, upper)\n",
    " \n",
    "    # return the edged image\n",
    "    return edged\n",
    "\n",
    "def hor_vert_lines(lines):\n",
    "    \"\"\"\n",
    "    A line is given by rho and theta. Given a list of lines, returns a list of\n",
    "    horizontal lines (theta=90 deg) and a list of vertical lines (theta=0 deg).\n",
    "    \"\"\"\n",
    "    h = []\n",
    "    v = []\n",
    "    for distance, angle in lines:\n",
    "        if angle < np.pi / 4 or angle > np.pi - np.pi / 4:\n",
    "            v.append([distance, angle])\n",
    "        else:\n",
    "            h.append([distance, angle])\n",
    "    return h, v\n",
    "\n",
    "def intersections(h, v):\n",
    "    \"\"\"\n",
    "    Given lists of horizontal and vertical lines in (rho, theta) form, returns list\n",
    "    of (x, y) intersection points.\n",
    "    \"\"\"\n",
    "    points = []\n",
    "    for d1, a1 in h:\n",
    "        for d2, a2 in v:\n",
    "            A = np.array([[np.cos(a1), np.sin(a1)], [np.cos(a2), np.sin(a2)]])\n",
    "            b = np.array([d1, d2])\n",
    "            point = np.linalg.solve(A, b)\n",
    "            points.append(point)\n",
    "    return np.array(points)\n",
    "\n",
    "def cluster(points, max_dist=50):\n",
    "    \"\"\"\n",
    "    Given a list of points, returns a list of cluster centers.\n",
    "    \"\"\"\n",
    "    Y = spatial.distance.pdist(points)\n",
    "    Z = clstr.hierarchy.single(Y)\n",
    "    T = clstr.hierarchy.fcluster(Z, max_dist, 'distance')\n",
    "    clusters = defaultdict(list)\n",
    "    for i in range(len(T)):\n",
    "        clusters[T[i]].append(points[i])\n",
    "    clusters = clusters.values()\n",
    "    clusters = list(map(lambda arr: (np.mean(np.array(arr)[:,0]), np.mean(np.array(arr)[:,1])), clusters))\n",
    "    return clusters\n",
    "\n",
    "def closest_point(points, loc):\n",
    "    \"\"\"\n",
    "    Returns the list of points, sorted by distance from loc.\n",
    "    \"\"\"\n",
    "    dists = np.array(list(map(partial(spatial.distance.euclidean, loc), points)))\n",
    "    return points[dists.argmin()]\n",
    "\n",
    "def find_corners(points, img_dim):\n",
    "    \"\"\"\n",
    "    Given a list of points, returns a list containing the four corner points.\n",
    "    \"\"\"\n",
    "    center_point = closest_point(points, (img_dim[0] / 2, img_dim[1] / 2))\n",
    "    points.remove(center_point)\n",
    "    center_adjacent_point = closest_point(points, center_point)\n",
    "    points.append(center_point)\n",
    "    grid_dist = spatial.distance.euclidean(np.array(center_point), np.array(center_adjacent_point))\n",
    "    \n",
    "    img_corners = [(0, 0), (0, img_dim[1]), img_dim, (img_dim[0], 0)]\n",
    "    board_corners = []\n",
    "    tolerance = 0.25 # bigger = more tolerance\n",
    "    for img_corner in img_corners:\n",
    "        while True:\n",
    "            cand_board_corner = closest_point(points, img_corner)\n",
    "            points.remove(cand_board_corner)\n",
    "            cand_board_corner_adjacent = closest_point(points, cand_board_corner)\n",
    "            corner_grid_dist = spatial.distance.euclidean(np.array(cand_board_corner), np.array(cand_board_corner_adjacent))\n",
    "            if corner_grid_dist > (1 - tolerance) * grid_dist and corner_grid_dist < (1 + tolerance) * grid_dist:\n",
    "                points.append(cand_board_corner)\n",
    "                board_corners.append(cand_board_corner)\n",
    "                break\n",
    "    return board_corners\n",
    "\n",
    "def four_point_transform(img, points, square_length=SQUARE_SIDE_LENGTH):\n",
    "    board_length = square_length * 8\n",
    "    pts1 = np.float32(points)\n",
    "    pts2 = np.float32([[0, 0], [0, board_length], [board_length, board_length], [board_length, 0]])\n",
    "    M = cv2.getPerspectiveTransform(pts1, pts2)\n",
    "    return cv2.warpPerspective(img, M, (board_length, board_length))"
   ]
  },
  {
   "cell_type": "code",
   "execution_count": 213,
   "metadata": {},
   "outputs": [
    {
     "data": {
      "text/plain": [
       "True"
      ]
     },
     "execution_count": 213,
     "metadata": {},
     "output_type": "execute_result"
    }
   ],
   "source": [
    "def find_board(fname):\n",
    "    \"\"\"\n",
    "    Given a filename, returns the board image.\n",
    "    \"\"\"\n",
    "    start = time()\n",
    "    img = cv2.imread(fname)\n",
    "    assert img is not None\n",
    "    gray = cv2.cvtColor(img, cv2.COLOR_BGR2GRAY)\n",
    "    gray = cv2.blur(gray, (3, 3)) # TODO auto adjust the size of the blur\n",
    "    \n",
    "    # Canny edge detection\n",
    "    edges = auto_canny(gray)\n",
    "    assert np.count_nonzero(edges) / float(gray.shape[0] * gray.shape[1]) < 0.035\n",
    "\n",
    "    # Hough line detection\n",
    "    lines = cv2.HoughLines(edges, 1, np.pi/180, 200)\n",
    "    lines = np.reshape(lines, (-1, 2))\n",
    "    \n",
    "    # Compute intersection points\n",
    "    h, v = hor_vert_lines(lines)\n",
    "    assert len(h) >= 9\n",
    "    assert len(v) >= 9\n",
    "    points = intersections(h, v) \n",
    "        \n",
    "    if False:\n",
    "        for rho, theta in lines:\n",
    "            a = np.cos(theta)\n",
    "            b = np.sin(theta)\n",
    "            x0 = a*rho\n",
    "            y0 = b*rho\n",
    "            x1 = int(x0 + 4000*(-b))\n",
    "            y1 = int(y0 + 4000*(a))\n",
    "            x2 = int(x0 - 4000*(-b))\n",
    "            y2 = int(y0 - 4000*(a))\n",
    "            cv2.line(img,(x1,y1),(x2,y2),(0,0,255),2)\n",
    "        cv2.imwrite('lines.jpg', img)\n",
    "    \n",
    "    # Cluster intersection points\n",
    "    points = cluster(points)\n",
    "    \n",
    "    # Find corners\n",
    "    img_shape = np.shape(img)\n",
    "    points = find_corners(points, (img_shape[1], img_shape[0]))\n",
    "    \n",
    "    if False:\n",
    "        for point in points:\n",
    "            cv2.circle(img, tuple(point), 25, (0,0,255), -1)\n",
    "        cv2.imwrite('points.jpg', img)\n",
    "    \n",
    "    # Perspective transform\n",
    "    new_img = four_point_transform(img, points)\n",
    "\n",
    "    return new_img\n",
    "\n",
    "def split_board(img):\n",
    "    \"\"\"\n",
    "    Given a board image, returns an array of 64 smaller images.\n",
    "    \"\"\"\n",
    "    arr = []\n",
    "    sq_len = img.shape[0] / 8\n",
    "    for i in range(8):\n",
    "        for j in range(8):\n",
    "            arr.append(img[i * sq_len : (i + 1) * sq_len, j * sq_len : (j + 1) * sq_len])\n",
    "    return arr\n",
    "\n",
    "cv2.imwrite('crop.jpg', find_board('frame1.jpg'))"
   ]
  },
  {
   "cell_type": "code",
   "execution_count": null,
   "metadata": {},
   "outputs": [],
   "source": []
  },
  {
   "cell_type": "code",
   "execution_count": 199,
   "metadata": {},
   "outputs": [
    {
     "data": {
      "text/plain": [
       "True"
      ]
     },
     "execution_count": 199,
     "metadata": {},
     "output_type": "execute_result"
    }
   ],
   "source": [
    "#whitepawn\n",
    "import cv2\n",
    "import numpy as np\n",
    "img = cv2.imread('chess.png')\n",
    "img_rgb = cv2.cvtColor(img,cv2.COLOR_BGR2RGB)\n",
    "img_gray = cv2.cvtColor(img_rgb,cv2.COLOR_BGR2GRAY)\n",
    "pawn_white_template = cv2.imread(\"wpawn.png\",0)\n",
    "w_pawn_white, h_pawn_white = pawn_white_template.shape[::-1]\n",
    "res_pawn_white = cv2.matchTemplate(img_gray,pawn_white_template,cv2.TM_CCOEFF_NORMED)\n",
    "threshhold = 0.7\n",
    "loc = np.where(res_pawn_white >= threshhold)\n",
    "for pt in zip(*loc[::-1]):\n",
    "    cv2.rectangle(img_rgb,pt,(pt[0]+w_pawn_white, pt[1]+h_pawn_white),(0,255,255),1)\n",
    "cv2.imwrite('detectedwpawn.png',img_rgb)"
   ]
  },
  {
   "cell_type": "code",
   "execution_count": 224,
   "metadata": {},
   "outputs": [
    {
     "data": {
      "text/plain": [
       "True"
      ]
     },
     "execution_count": 224,
     "metadata": {},
     "output_type": "execute_result"
    }
   ],
   "source": [
    "#Blackpawn\n",
    "img_rgb = cv2.cvtColor(img,cv2.COLOR_BGR2RGB)\n",
    "img_gray = cv2.cvtColor(img_rgb,cv2.COLOR_BGR2GRAY)\n",
    "pawn_white_template = cv2.imread(\"bpawn.png\",0)\n",
    "w_pawn_white, h_pawn_white = pawn_white_template.shape[::-1]\n",
    "res_pawn_white = cv2.matchTemplate(img_gray,pawn_white_template,cv2.TM_CCOEFF_NORMED)\n",
    "threshhold = 0.7\n",
    "loc = np.where(res_pawn_white >= threshhold)\n",
    "for pt in zip(*loc[::-1]):\n",
    "    cv2.rectangle(img_rgb,pt,(pt[0]+w_pawn_white, pt[1]+h_pawn_white),(0,255,255),1)\n",
    "    font = cv2.FONT_HERSHEY_SIMPLEX\n",
    "    cv2.putText(img_rgb,'Black pawn',(w_pawn_white,h_pawn_white), font, 1,(0,255,255),2,cv2.LINE_AA)\n",
    "cv2.imwrite('detectedbpawn.png',img_rgb)\n"
   ]
  },
  {
   "cell_type": "code",
   "execution_count": 201,
   "metadata": {},
   "outputs": [
    {
     "data": {
      "text/plain": [
       "True"
      ]
     },
     "execution_count": 201,
     "metadata": {},
     "output_type": "execute_result"
    }
   ],
   "source": [
    "#whiteknight\n",
    "img_rgb = cv2.cvtColor(img,cv2.COLOR_BGR2RGB)\n",
    "img_gray = cv2.cvtColor(img_rgb,cv2.COLOR_BGR2GRAY)\n",
    "pawn_white_template = cv2.imread(\"wknight.png\",0)\n",
    "w_pawn_white, h_pawn_white = pawn_white_template.shape[::-1]\n",
    "res_pawn_white = cv2.matchTemplate(img_gray,pawn_white_template,cv2.TM_CCOEFF_NORMED)\n",
    "threshhold = 0.7\n",
    "loc = np.where(res_pawn_white >= threshhold)\n",
    "for pt in zip(*loc[::-1]):\n",
    "    cv2.rectangle(img_rgb,pt,(pt[0]+w_pawn_white, pt[1]+h_pawn_white),(0,255,255),1)    \n",
    "cv2.imwrite('detectedwknight.png',img_rgb)\n"
   ]
  },
  {
   "cell_type": "code",
   "execution_count": 202,
   "metadata": {},
   "outputs": [
    {
     "data": {
      "text/plain": [
       "True"
      ]
     },
     "execution_count": 202,
     "metadata": {},
     "output_type": "execute_result"
    }
   ],
   "source": [
    "#whitebishop\n",
    "\n",
    "img_rgb = cv2.cvtColor(img,cv2.COLOR_BGR2RGB)\n",
    "img_gray = cv2.cvtColor(img_rgb,cv2.COLOR_BGR2GRAY)\n",
    "pawn_white_template = cv2.imread(\"wbishop.png\",0)\n",
    "pawn_white_template=cv2.GaussianBlur(pawn_white_template,(3,3),0)\n",
    "w_pawn_white, h_pawn_white = pawn_white_template.shape[::-1]\n",
    "res_pawn_white = cv2.matchTemplate(img_gray,pawn_white_template,cv2.TM_CCOEFF_NORMED)\n",
    "threshhold = 0.7\n",
    "loc = np.where(res_pawn_white >= threshhold)\n",
    "for pt in zip(*loc[::-1]):\n",
    "    cv2.rectangle(img_rgb,pt,(pt[0]+w_pawn_white, pt[1]+h_pawn_white),(0,255,255),1)\n",
    "\n",
    "cv2.imwrite('detectedwbishop.png',img_rgb)"
   ]
  },
  {
   "cell_type": "code",
   "execution_count": 203,
   "metadata": {},
   "outputs": [
    {
     "data": {
      "text/plain": [
       "True"
      ]
     },
     "execution_count": 203,
     "metadata": {},
     "output_type": "execute_result"
    }
   ],
   "source": [
    "#WhiteRook\n",
    "img_rgb = cv2.cvtColor(img,cv2.COLOR_BGR2RGB)\n",
    "img_gray = cv2.cvtColor(img_rgb,cv2.COLOR_BGR2GRAY)\n",
    "pawn_white_template = cv2.imread(\"wrook.png\",0)\n",
    "w_pawn_white, h_pawn_white = pawn_white_template.shape[::-1]\n",
    "res_pawn_white = cv2.matchTemplate(img_gray,pawn_white_template,cv2.TM_CCOEFF_NORMED)\n",
    "threshhold = 0.7\n",
    "loc = np.where(res_pawn_white >= threshhold)\n",
    "for pt in zip(*loc[::-1]):\n",
    "    cv2.rectangle(img_rgb,pt,(pt[0]+w_pawn_white, pt[1]+h_pawn_white),(0,255,255),1)\n",
    "cv2.imwrite('detectedwrook.png',img_rgb)"
   ]
  },
  {
   "cell_type": "code",
   "execution_count": null,
   "metadata": {},
   "outputs": [],
   "source": []
  },
  {
   "cell_type": "code",
   "execution_count": 204,
   "metadata": {},
   "outputs": [
    {
     "data": {
      "text/plain": [
       "True"
      ]
     },
     "execution_count": 204,
     "metadata": {},
     "output_type": "execute_result"
    }
   ],
   "source": [
    "#WhiteQueen\n",
    "img_rgb = cv2.cvtColor(img,cv2.COLOR_BGR2RGB)\n",
    "img_gray = cv2.cvtColor(img_rgb,cv2.COLOR_BGR2GRAY)\n",
    "pawn_white_template = cv2.imread(\"wqueen.png\",0)\n",
    "w_pawn_white, h_pawn_white = pawn_white_template.shape[::-1]\n",
    "res_pawn_white = cv2.matchTemplate(img_gray,pawn_white_template,cv2.TM_CCOEFF_NORMED)\n",
    "threshhold = 0.7\n",
    "loc = np.where(res_pawn_white >= threshhold)\n",
    "for pt in zip(*loc[::-1]):\n",
    "    cv2.rectangle(img_rgb,pt,(pt[0]+w_pawn_white, pt[1]+h_pawn_white),(0,255,255),1)\n",
    "cv2.imwrite('detectedwqueen.png',img_rgb)"
   ]
  },
  {
   "cell_type": "code",
   "execution_count": 205,
   "metadata": {},
   "outputs": [
    {
     "data": {
      "text/plain": [
       "True"
      ]
     },
     "execution_count": 205,
     "metadata": {},
     "output_type": "execute_result"
    }
   ],
   "source": [
    "#WhiteKing\n",
    "img_rgb = cv2.cvtColor(img,cv2.COLOR_BGR2RGB)\n",
    "img_gray = cv2.cvtColor(img_rgb,cv2.COLOR_BGR2GRAY)\n",
    "pawn_white_template = cv2.imread(\"wking.png\",0)    \n",
    "w_pawn_white, h_pawn_white = pawn_white_template.shape[::-1]\n",
    "res_pawn_white = cv2.matchTemplate(img_gray,pawn_white_template,cv2.TM_CCOEFF_NORMED)\n",
    "threshhold = 0.7\n",
    "loc = np.where(res_pawn_white >= threshhold)\n",
    "for pt in zip(*loc[::-1]):\n",
    "    cv2.rectangle(img_rgb,pt,(pt[0]+w_pawn_white, pt[1]+h_pawn_white),(0,255,255),1)\n",
    "cv2.imwrite('detectedwking.png',img_rgb)"
   ]
  },
  {
   "cell_type": "code",
   "execution_count": 206,
   "metadata": {},
   "outputs": [
    {
     "data": {
      "text/plain": [
       "True"
      ]
     },
     "execution_count": 206,
     "metadata": {},
     "output_type": "execute_result"
    }
   ],
   "source": [
    "#Blackking\n",
    "img_rgb = cv2.cvtColor(img,cv2.COLOR_BGR2RGB)\n",
    "img_gray = cv2.cvtColor(img_rgb,cv2.COLOR_BGR2GRAY)\n",
    "pawn_white_template = cv2.imread(\"bking.png\",0)    \n",
    "w_pawn_white, h_pawn_white = pawn_white_template.shape[::-1]\n",
    "res_pawn_white = cv2.matchTemplate(img_gray,pawn_white_template,cv2.TM_CCOEFF_NORMED)\n",
    "threshhold = 0.7\n",
    "loc = np.where(res_pawn_white >= threshhold)\n",
    "for pt in zip(*loc[::-1]):\n",
    "    cv2.rectangle(img_rgb,pt,(pt[0]+w_pawn_white, pt[1]+h_pawn_white),(0,255,255),1)\n",
    "cv2.imwrite('detectedbking.png',img_rgb)"
   ]
  },
  {
   "cell_type": "code",
   "execution_count": 207,
   "metadata": {},
   "outputs": [
    {
     "data": {
      "text/plain": [
       "True"
      ]
     },
     "execution_count": 207,
     "metadata": {},
     "output_type": "execute_result"
    }
   ],
   "source": [
    "#BlackQueen\n",
    "img_rgb = cv2.cvtColor(img,cv2.COLOR_BGR2RGB)\n",
    "img_gray = cv2.cvtColor(img_rgb,cv2.COLOR_BGR2GRAY)\n",
    "pawn_white_template = cv2.imread(\"bqueen.png\",0)\n",
    "w_pawn_white, h_pawn_white = pawn_white_template.shape[::-1]\n",
    "res_pawn_white = cv2.matchTemplate(img_gray,pawn_white_template,cv2.TM_CCOEFF_NORMED)\n",
    "threshhold = 0.7\n",
    "loc = np.where(res_pawn_white >= threshhold)\n",
    "for pt in zip(*loc[::-1]):\n",
    "    cv2.rectangle(img_rgb,pt,(pt[0]+w_pawn_white, pt[1]+h_pawn_white),(0,255,255),1)\n",
    "cv2.imwrite('detectedbqueen.png',img_rgb)"
   ]
  },
  {
   "cell_type": "code",
   "execution_count": 208,
   "metadata": {},
   "outputs": [
    {
     "data": {
      "text/plain": [
       "True"
      ]
     },
     "execution_count": 208,
     "metadata": {},
     "output_type": "execute_result"
    }
   ],
   "source": [
    "#BlackRook\n",
    "img_rgb = cv2.cvtColor(img,cv2.COLOR_BGR2RGB)\n",
    "img_gray = cv2.cvtColor(img_rgb,cv2.COLOR_BGR2GRAY)\n",
    "pawn_white_template = cv2.imread(\"brook.png\",0)\n",
    "w_pawn_white, h_pawn_white = pawn_white_template.shape[::-1]\n",
    "res_pawn_white = cv2.matchTemplate(img_gray,pawn_white_template,cv2.TM_CCOEFF_NORMED)\n",
    "threshhold = 0.7\n",
    "loc = np.where(res_pawn_white >= threshhold)\n",
    "for pt in zip(*loc[::-1]):\n",
    "    cv2.rectangle(img_rgb,pt,(pt[0]+w_pawn_white, pt[1]+h_pawn_white),(0,255,255),1)\n",
    "cv2.imwrite('detectedbrook.png',img_rgb)"
   ]
  },
  {
   "cell_type": "code",
   "execution_count": 209,
   "metadata": {},
   "outputs": [
    {
     "data": {
      "text/plain": [
       "True"
      ]
     },
     "execution_count": 209,
     "metadata": {},
     "output_type": "execute_result"
    }
   ],
   "source": [
    "#blackbishop\n",
    "img_rgb = cv2.cvtColor(img,cv2.COLOR_BGR2RGB)\n",
    "img_gray = cv2.cvtColor(img_rgb,cv2.COLOR_BGR2GRAY)\n",
    "pawn_white_template = cv2.imread(\"bbishop.png\",0)\n",
    "pawn_white_template=cv2.GaussianBlur(pawn_white_template,(3,3),0)\n",
    "w_pawn_white, h_pawn_white = pawn_white_template.shape[::-1]\n",
    "res_pawn_white = cv2.matchTemplate(img_gray,pawn_white_template,cv2.TM_CCOEFF_NORMED)\n",
    "threshhold = 0.7\n",
    "loc = np.where(res_pawn_white >= threshhold)\n",
    "for pt in zip(*loc[::-1]):\n",
    "    cv2.rectangle(img_rgb,pt,(pt[0]+w_pawn_white, pt[1]+h_pawn_white),(0,255,255),1)\n",
    "\n",
    "cv2.imwrite('detectedbbishop.png',img_rgb)"
   ]
  },
  {
   "cell_type": "code",
   "execution_count": 210,
   "metadata": {},
   "outputs": [
    {
     "data": {
      "text/plain": [
       "True"
      ]
     },
     "execution_count": 210,
     "metadata": {},
     "output_type": "execute_result"
    }
   ],
   "source": [
    "#blackknight\n",
    "img_rgb = cv2.cvtColor(img,cv2.COLOR_BGR2RGB)\n",
    "img_gray = cv2.cvtColor(img_rgb,cv2.COLOR_BGR2GRAY)\n",
    "pawn_white_template = cv2.imread(\"bknight.png\",0)\n",
    "pawn_white_template=cv2.GaussianBlur(pawn_white_template,(3,3),0)\n",
    "w_pawn_white, h_pawn_white = pawn_white_template.shape[::-1]\n",
    "res_pawn_white = cv2.matchTemplate(img_gray,pawn_white_template,cv2.TM_CCOEFF_NORMED)\n",
    "threshhold = 0.7\n",
    "loc = np.where(res_pawn_white >= threshhold)\n",
    "for pt in zip(*loc[::-1]):\n",
    "    cv2.rectangle(img_rgb,pt,(pt[0]+w_pawn_white, pt[1]+h_pawn_white),(0,255,255),1)\n",
    "\n",
    "cv2.imwrite('detectedbknight.png',img_rgb)"
   ]
  },
  {
   "cell_type": "code",
   "execution_count": 197,
   "metadata": {},
   "outputs": [],
   "source": [
    "\n",
    "#similarity of 2 images\n",
    "# import the necessary packages\n",
    "import cv2 as cv2\n",
    "\n",
    "from skimage import measure\n",
    "\n",
    "import matplotlib.pyplot as plt\n",
    "import numpy as np\n",
    "import cv2"
   ]
  },
  {
   "cell_type": "code",
   "execution_count": 22,
   "metadata": {},
   "outputs": [],
   "source": [
    "def mse(imageA, imageB):\n",
    "\t# the 'Mean Squared Error' between the two images is the\n",
    "\t# sum of the squared difference between the two images;\n",
    "\t# NOTE: the two images must have the same dimension\n",
    "\terr = np.sum((imageA.astype(\"float\") - imageB.astype(\"float\")) ** 2)\n",
    "\terr /= float(imageA.shape[0] * imageA.shape[1])\n",
    "\t\n",
    "\t# return the MSE, the lower the error, the more \"similar\"\n",
    "\t# the two images are\n",
    "\treturn err\n",
    " \n",
    "def compare_images(imageA, imageB, title):\n",
    "\t# compute the mean squared error and structural similarity\n",
    "\t# index for the images\n",
    "\tm = mse(imageA, imageB)\n",
    "#s = ssim(imageA, imageB)\n",
    "\ts = measure.compare_ssim(imageA, imageB)\n",
    "\t# setup the figure\n",
    "\tfig = plt.figure(title)\n",
    "\tplt.suptitle(\"MSE: %.2f, SSIM: %.2f\" % (m, s))\n",
    " \n",
    "\t# show first image\n",
    "\tax = fig.add_subplot(1, 2, 1)\n",
    "\tplt.imshow(imageA, cmap = plt.cm.gray)\n",
    "\tplt.axis(\"off\")\n",
    " \n",
    "\t# show the second image\n",
    "\tax = fig.add_subplot(1, 2, 2)\n",
    "\tplt.imshow(imageB, cmap = plt.cm.gray)\n",
    "\tplt.axis(\"off\")\n",
    " \n",
    "\t# show the images\n",
    "\tplt.show()\n"
   ]
  },
  {
   "cell_type": "code",
   "execution_count": 33,
   "metadata": {},
   "outputs": [],
   "source": [
    "orig = cv2.imread(\"ss1.png\")\n",
    "cont = cv2.imread(\"ss2.png\")\n",
    "shop = cv2.imread(\"ch.jpg\")\n",
    "\n",
    "from PIL import Image\n",
    "\n",
    "from resizeimage import resizeimage\n",
    "import numpy as np\n",
    "\n",
    "width = 455\n",
    "height = 460\n",
    "dim = (width, height)\n",
    " \n",
    "# resize image\n",
    "original = cv2.resize(orig, dim, interpolation = cv2.INTER_AREA)\n",
    "contrast = cv2.resize(cont, dim, interpolation = cv2.INTER_AREA)\n",
    "shopped = cv2.resize(shop, dim, interpolation = cv2.INTER_AREA)\n",
    " \n",
    "\n",
    "# convert the images to grayscale\n",
    "original = cv2.cvtColor(original, cv2.COLOR_BGR2GRAY)\n",
    "contrast = cv2.cvtColor(contrast, cv2.COLOR_BGR2GRAY)\n",
    "shopped = cv2.cvtColor(shopped, cv2.COLOR_BGR2GRAY)"
   ]
  },
  {
   "cell_type": "code",
   "execution_count": 34,
   "metadata": {},
   "outputs": [
    {
     "data": {
      "image/png": "[encoded data removed]",
      "text/plain": [
       "<Figure size 432x288 with 3 Axes>"
      ]
     },
     "metadata": {
      "needs_background": "light"
     },
     "output_type": "display_data"
    },
    {
     "data": {
      "image/png": "[encoded data removed]",
      "text/plain": [
       "<Figure size 432x288 with 2 Axes>"
      ]
     },
     "metadata": {
      "needs_background": "light"
     },
     "output_type": "display_data"
    },
    {
     "data": {
      "image/png": "[encoded data removed]",
      "text/plain": [
       "<Figure size 432x288 with 2 Axes>"
      ]
     },
     "metadata": {
      "needs_background": "light"
     },
     "output_type": "display_data"
    },
    {
     "data": {
      "image/png": "[encoded data removed]",
      "text/plain": [
       "<Figure size 432x288 with 2 Axes>"
      ]
     },
     "metadata": {
      "needs_background": "light"
     },
     "output_type": "display_data"
    }
   ],
   "source": [
    "# initialize the figure\n",
    "fig = plt.figure(\"Images\")\n",
    "images = (\"Original\", original), (\"Contrast\", contrast), (\"Photoshopped\", shopped)\n",
    " \n",
    "# loop over the images\n",
    "for (i, (name, image)) in enumerate(images):\n",
    "\t# show the image\n",
    "\tax = fig.add_subplot(1,3, i + 1)\n",
    "\tax.set_title(name)\n",
    "\tplt.imshow(image, cmap = plt.cm.gray)\n",
    "\tplt.axis(\"off\")\n",
    "plt.show()\n",
    " \n",
    "# compare the images\n",
    "compare_images(original, original, \"Original vs. Original\")\n",
    "compare_images(original, contrast, \"Original vs. Contrast\")\n",
    "compare_images(original, shopped, \"Original vs. Photoshopped\")\n"
   ]
  },
  {
   "cell_type": "code",
   "execution_count": null,
   "metadata": {},
   "outputs": [],
   "source": []
  },
  {
   "cell_type": "code",
   "execution_count": 2,
   "metadata": {},
   "outputs": [],
   "source": []
  },
  {
   "cell_type": "code",
   "execution_count": 3,
   "metadata": {},
   "outputs": [],
   "source": []
  },
  {
   "cell_type": "code",
   "execution_count": 4,
   "metadata": {},
   "outputs": [
    {
     "name": "stdout",
     "output_type": "stream",
     "text": [
      "SSIM: 0.6574644983475801\n"
     ]
    },
    {
     "name": "stderr",
     "output_type": "stream",
     "text": [
      "/home/tcs/.local/lib/python3.5/site-packages/skimage/util/arraycrop.py:177: FutureWarning: Using a non-tuple sequence for multidimensional indexing is deprecated; use `arr[tuple(seq)]` instead of `arr[seq]`. In the future this will be interpreted as an array index, `arr[np.array(seq)]`, which will result either in an error or a different result.\n",
      "  cropped = ar[slices]\n"
     ]
    }
   ],
   "source": []
  },
  {
   "cell_type": "code",
   "execution_count": null,
   "metadata": {},
   "outputs": [],
   "source": []
  },
  {
   "cell_type": "code",
   "execution_count": null,
   "metadata": {},
   "outputs": [],
   "source": []
  },
  {
   "cell_type": "code",
   "execution_count": null,
   "metadata": {},
   "outputs": [],
   "source": []
  },
  {
   "cell_type": "code",
   "execution_count": 65,
   "metadata": {},
   "outputs": [],
   "source": [
    "#extract frames\n",
    "import cv2 \n",
    "import os\n",
    "def FrameCapture(path): \n",
    "      \n",
    "    vidObj = cv2.VideoCapture(path) \n",
    "  \n",
    "    count = 0\n",
    "  \n",
    "    success = 1\n",
    "  \n",
    "    while success: \n",
    "\n",
    "        success, image = vidObj.read() \n",
    "        path = 'home/tcs/ChessCV/frames'\n",
    "\n",
    "        cv2.imwrite(\"frame%d.jpg\" % count, image) \n",
    "\n",
    "        count += 1\n",
    "  \n",
    "# Driver Code \n",
    "if __name__ == '__main__': \n",
    "        FrameCapture(\"chess.mp4\") "
   ]
  },
  {
   "cell_type": "code",
   "execution_count": 1,
   "metadata": {},
   "outputs": [],
   "source": [
    "#detect squares"
   ]
  },
  {
   "cell_type": "code",
   "execution_count": 2,
   "metadata": {},
   "outputs": [
    {
     "ename": "NameError",
     "evalue": "name 'cv2' is not defined",
     "output_type": "error",
     "traceback": [
      "\u001b[0;31m---------------------------------------------------------------------------\u001b[0m",
      "\u001b[0;31mNameError\u001b[0m                                 Traceback (most recent call last)",
      "\u001b[0;32m<ipython-input-2-20a831b2643b>\u001b[0m in \u001b[0;36m<module>\u001b[0;34m\u001b[0m\n\u001b[0;32m----> 1\u001b[0;31m \u001b[0mim\u001b[0m\u001b[0;34m=\u001b[0m\u001b[0mcv2\u001b[0m\u001b[0;34m.\u001b[0m\u001b[0mimread\u001b[0m\u001b[0;34m(\u001b[0m\u001b[0;34m\"chess.png\"\u001b[0m\u001b[0;34m)\u001b[0m\u001b[0;34m\u001b[0m\u001b[0m\n\u001b[0m",
      "\u001b[0;31mNameError\u001b[0m: name 'cv2' is not defined"
     ]
    }
   ],
   "source": [
    "\n"
   ]
  },
  {
   "cell_type": "code",
   "execution_count": 30,
   "metadata": {},
   "outputs": [
    {
     "name": "stderr",
     "output_type": "stream",
     "text": [
      "/usr/local/lib/python3.5/dist-packages/ipykernel_launcher.py:11: RuntimeWarning: invalid value encountered in true_divide\n",
      "  # This is added back by InteractiveShellApp.init_path()\n"
     ]
    },
    {
     "data": {
      "text/plain": [
       "True"
      ]
     },
     "execution_count": 30,
     "metadata": {},
     "output_type": "execute_result"
    }
   ],
   "source": [
    "import cv2\n",
    "import numpy as np\n",
    "im=cv2.imread(\"chess.png\")\n",
    "img = cv2.imread('chess.png')\n",
    "img = cv2.GaussianBlur(img,(3,3),0)\n",
    "gray = cv2.cvtColor(img,cv2.COLOR_BGR2GRAY)\n",
    "mask = np.zeros((gray.shape),np.uint8)\n",
    "kernel1 = cv2.getStructuringElement(cv2.MORPH_ELLIPSE,(11,11))\n",
    "\n",
    "close = cv2.morphologyEx(gray,cv2.MORPH_CLOSE,kernel1)\n",
    "div = np.float32(gray)/(close)\n",
    "res = np.uint8(cv2.normalize(div,div,0,255,cv2.NORM_MINMAX))\n",
    "res2 = cv2.cvtColor(res,cv2.COLOR_GRAY2BGR)\n",
    "thresh = cv2.adaptiveThreshold(res,255,0,1,19,2)\n",
    "cv2.imwrite(\"th.png\",thresh)"
   ]
  },
  {
   "cell_type": "code",
   "execution_count": 31,
   "metadata": {},
   "outputs": [],
   "source": [
    "\n",
    "_,contour,_= cv2.findContours(thresh,cv2.RETR_TREE,cv2.CHAIN_APPROX_SIMPLE)\n",
    "\n",
    "max_area = 0\n",
    "best_cnt = None\n",
    "for cnt in contour:\n",
    "    area = cv2.contourArea(cnt)\n",
    "    if area > 1000:\n",
    "        if area > max_area:\n",
    "            max_area = area\n",
    "            best_cnt = cnt\n",
    "\n",
    "cv2.drawContours(mask,[best_cnt],0,255,-1)\n",
    "cv2.drawContours(mask,[best_cnt],0,0,2)\n",
    "\n",
    "res = cv2.bitwise_and(res,mask)\n"
   ]
  },
  {
   "cell_type": "code",
   "execution_count": 32,
   "metadata": {},
   "outputs": [
    {
     "data": {
      "text/plain": [
       "True"
      ]
     },
     "execution_count": 32,
     "metadata": {},
     "output_type": "execute_result"
    }
   ],
   "source": [
    "kernelx = cv2.getStructuringElement(cv2.MORPH_RECT,(2,8))\n",
    "\n",
    "dx = cv2.Sobel(gray,cv2.CV_16S,1,0)\n",
    "dx = cv2.convertScaleAbs(dx)\n",
    "cv2.normalize(dx,dx,0,255,cv2.NORM_MINMAX)\n",
    "ret,close = cv2.threshold(dx,0,255,cv2.THRESH_BINARY+cv2.THRESH_OTSU)\n",
    "close = cv2.morphologyEx(close,cv2.MORPH_ERODE,kernelx,iterations = 1)\n",
    "\n",
    "_,contour,_= cv2.findContours(close,cv2.RETR_EXTERNAL,cv2.CHAIN_APPROX_SIMPLE)\n",
    "for cnt in contour:\n",
    "    x,y,w,h = cv2.boundingRect(cnt)\n",
    "    if h/w > 20:\n",
    "        cv2.drawContours(close,[cnt],0,255,-1)\n",
    "    else:\n",
    "        cv2.drawContours(close,[cnt],0,0,-1)\n",
    "close = cv2.morphologyEx(close,cv2.MORPH_CLOSE,None,iterations = 2)\n",
    "kernel = np.ones((20,1), np.uint8)  # note this is a horizontal kernel\n",
    "d_im = cv2.dilate(close, kernel, iterations=2)\n",
    "e_im = cv2.erode(d_im, kernel, iterations=1) \n",
    "\n",
    "\n",
    "closey = e_im.copy()\n",
    "\n",
    "\n",
    "cv2.imwrite(\"closev.png\",closey)"
   ]
  },
  {
   "cell_type": "code",
   "execution_count": null,
   "metadata": {},
   "outputs": [],
   "source": []
  },
  {
   "cell_type": "code",
   "execution_count": 33,
   "metadata": {},
   "outputs": [
    {
     "data": {
      "text/plain": [
       "True"
      ]
     },
     "execution_count": 33,
     "metadata": {},
     "output_type": "execute_result"
    }
   ],
   "source": [
    "kernely = cv2.getStructuringElement(cv2.MORPH_RECT,(8,2))\n",
    "\n",
    "dy = cv2.Sobel(gray,cv2.CV_16S,0,1)\n",
    "dy = cv2.convertScaleAbs(dy)\n",
    "cv2.normalize(dy,dy,0,255,cv2.NORM_MINMAX)\n",
    "ret,close = cv2.threshold(dy,0,255,cv2.THRESH_BINARY+cv2.THRESH_OTSU)\n",
    "close = cv2.morphologyEx(close,cv2.MORPH_ERODE,kernely,iterations = 1)\n",
    "\n",
    "_,contour,_= cv2.findContours(close,cv2.RETR_EXTERNAL,cv2.CHAIN_APPROX_SIMPLE)\n",
    "for cnt in contour:\n",
    "    x,y,w,h = cv2.boundingRect(cnt)\n",
    "    if w/h > 20:\n",
    "        cv2.drawContours(close,[cnt],0,255,-1)\n",
    "    else:\n",
    "        cv2.drawContours(close,[cnt],0,0,-1)\n",
    "close = cv2.morphologyEx(close,cv2.MORPH_CLOSE,None,iterations = 3)\n",
    "kernel = np.ones((1,20), np.uint8)  # note this is a horizontal kernel\n",
    "d_im = cv2.dilate(close, kernel, iterations=3)\n",
    "e_im = cv2.erode(d_im, kernel, iterations=1) \n",
    "\n",
    "\n",
    "closey1 = e_im.copy()\n",
    "\n",
    "\n",
    "cv2.imwrite(\"closeh1.png\",closey1)"
   ]
  },
  {
   "cell_type": "code",
   "execution_count": null,
   "metadata": {},
   "outputs": [],
   "source": []
  },
  {
   "cell_type": "raw",
   "metadata": {},
   "source": []
  },
  {
   "cell_type": "code",
   "execution_count": null,
   "metadata": {},
   "outputs": [],
   "source": []
  },
  {
   "cell_type": "code",
   "execution_count": 34,
   "metadata": {},
   "outputs": [
    {
     "data": {
      "text/plain": [
       "True"
      ]
     },
     "execution_count": 34,
     "metadata": {},
     "output_type": "execute_result"
    }
   ],
   "source": [
    "res1 = cv2.bitwise_and(closey,closey1)\n",
    "\n",
    "cv2.imwrite(\"poi.png\",res1)"
   ]
  },
  {
   "cell_type": "code",
   "execution_count": 35,
   "metadata": {},
   "outputs": [
    {
     "data": {
      "text/plain": [
       "True"
      ]
     },
     "execution_count": 35,
     "metadata": {},
     "output_type": "execute_result"
    }
   ],
   "source": [
    "# noise removal\n",
    "kernel = np.ones((3,3),np.uint8)\n",
    "\n",
    "sure_bg = cv2.dilate(res1,kernel,iterations=3)\n",
    "\n",
    "dist_transform = cv2.distanceTransform(res1,cv2.DIST_L2,5)\n",
    "ret, sure_fg = cv2.threshold(dist_transform,0.7*dist_transform.max(),255,0)\n",
    "\n",
    "sure_fg = np.uint8(sure_fg)\n",
    "unknown = cv2.subtract(sure_bg,sure_fg)\n",
    "cv2.imwrite(\"unkn.png\",unknown)"
   ]
  },
  {
   "cell_type": "code",
   "execution_count": null,
   "metadata": {},
   "outputs": [],
   "source": []
  },
  {
   "cell_type": "code",
   "execution_count": null,
   "metadata": {},
   "outputs": [],
   "source": []
  },
  {
   "cell_type": "code",
   "execution_count": null,
   "metadata": {},
   "outputs": [],
   "source": []
  },
  {
   "cell_type": "code",
   "execution_count": 36,
   "metadata": {},
   "outputs": [
    {
     "data": {
      "text/plain": [
       "True"
      ]
     },
     "execution_count": 36,
     "metadata": {},
     "output_type": "execute_result"
    }
   ],
   "source": [
    "_,contour,_= cv2.findContours(unknown,cv2.RETR_LIST,cv2.CHAIN_APPROX_SIMPLE)\n",
    "centroids = []\n",
    "for cnt in contour:\n",
    "    mom = cv2.moments(cnt)\n",
    "    if(mom['m00']!=0):\n",
    "        (x,y) = int(mom['m10']/mom['m00']), int(mom['m01']/mom['m00'])\n",
    "        s1=cv2.circle(img,(x,y),4,(0,255,0),-1)\n",
    "        centroids.append((x,y))\n",
    "cv2.imwrite(\"s.png\",s1)"
   ]
  },
  {
   "cell_type": "code",
   "execution_count": null,
   "metadata": {},
   "outputs": [],
   "source": []
  },
  {
   "cell_type": "code",
   "execution_count": 37,
   "metadata": {},
   "outputs": [
    {
     "data": {
      "text/plain": [
       "array([[[  4.,   4.],\n",
       "        [ 60.,   4.],\n",
       "        [117.,   4.],\n",
       "        [173.,   4.],\n",
       "        [229.,   4.],\n",
       "        [285.,   4.],\n",
       "        [342.,   4.],\n",
       "        [398.,   4.],\n",
       "        [453.,   4.]],\n",
       "\n",
       "       [[  4.,  61.],\n",
       "        [ 60.,  61.],\n",
       "        [117.,  61.],\n",
       "        [173.,  58.],\n",
       "        [229.,  58.],\n",
       "        [285.,  58.],\n",
       "        [342.,  61.],\n",
       "        [398.,  61.],\n",
       "        [453.,  61.]],\n",
       "\n",
       "       [[  4., 117.],\n",
       "        [ 60., 117.],\n",
       "        [117., 117.],\n",
       "        [173., 117.],\n",
       "        [229., 117.],\n",
       "        [285., 117.],\n",
       "        [342., 117.],\n",
       "        [398., 117.],\n",
       "        [453., 117.]],\n",
       "\n",
       "       [[  4., 173.],\n",
       "        [ 60., 173.],\n",
       "        [117., 173.],\n",
       "        [173., 173.],\n",
       "        [229., 173.],\n",
       "        [285., 173.],\n",
       "        [342., 173.],\n",
       "        [398., 173.],\n",
       "        [453., 173.]],\n",
       "\n",
       "       [[  4., 230.],\n",
       "        [ 60., 230.],\n",
       "        [117., 230.],\n",
       "        [173., 230.],\n",
       "        [229., 230.],\n",
       "        [285., 230.],\n",
       "        [342., 230.],\n",
       "        [398., 230.],\n",
       "        [453., 230.]],\n",
       "\n",
       "       [[  4., 286.],\n",
       "        [ 60., 286.],\n",
       "        [117., 286.],\n",
       "        [173., 286.],\n",
       "        [229., 286.],\n",
       "        [285., 286.],\n",
       "        [342., 286.],\n",
       "        [398., 286.],\n",
       "        [453., 286.]],\n",
       "\n",
       "       [[  4., 342.],\n",
       "        [ 60., 342.],\n",
       "        [117., 342.],\n",
       "        [173., 342.],\n",
       "        [229., 342.],\n",
       "        [285., 342.],\n",
       "        [342., 342.],\n",
       "        [398., 342.],\n",
       "        [453., 342.]],\n",
       "\n",
       "       [[  4., 395.],\n",
       "        [ 60., 395.],\n",
       "        [117., 395.],\n",
       "        [173., 395.],\n",
       "        [229., 395.],\n",
       "        [285., 395.],\n",
       "        [342., 395.],\n",
       "        [398., 395.],\n",
       "        [453., 395.]],\n",
       "\n",
       "       [[  2., 451.],\n",
       "        [ 60., 451.],\n",
       "        [117., 453.],\n",
       "        [173., 453.],\n",
       "        [229., 451.],\n",
       "        [285., 451.],\n",
       "        [342., 453.],\n",
       "        [398., 451.],\n",
       "        [453., 453.]]], dtype=float32)"
      ]
     },
     "execution_count": 37,
     "metadata": {},
     "output_type": "execute_result"
    }
   ],
   "source": [
    "centroids = np.array(centroids,dtype = np.float32)\n",
    "c = centroids.reshape((81,2))\n",
    "c2 = c[np.argsort(c[:,1])]\n",
    "\n",
    "b = np.vstack([c2[i*9:(i+1)*9][np.argsort(c2[i*9:(i+1)*9,0])] for i in range(9)])\n",
    "bm = b.reshape((9,9,2))\n",
    "bm\n"
   ]
  },
  {
   "cell_type": "code",
   "execution_count": 38,
   "metadata": {},
   "outputs": [
    {
     "name": "stdout",
     "output_type": "stream",
     "text": [
      "bbishop\n"
     ]
    }
   ],
   "source": [
    "def check(img):\n",
    "    img_rgb = cv2.cvtColor(img,cv2.COLOR_BGR2RGB)\n",
    "    img_gray = cv2.cvtColor(img_rgb,cv2.COLOR_BGR2GRAY)\n",
    "    bbishop_template = cv2.imread(\"bbishop.png\",0)\n",
    "    bbishop_template=cv2.GaussianBlur(bbishop_template,(3,3),0)\n",
    "    bbishop_check= cv2.matchTemplate(img_gray,bbishop_template,cv2.TM_CCOEFF_NORMED)\n",
    "    threshhold = 0.7\n",
    "    if((bbishop_check >= threshhold)):\n",
    "        print(\"bbishop\")\n",
    "    else:\n",
    "        print(\"Not bbishop\")\n",
    "kl=cv2.imread(\"bbishop.png\")\n",
    "check(kl)"
   ]
  },
  {
   "cell_type": "code",
   "execution_count": 39,
   "metadata": {},
   "outputs": [],
   "source": [
    "i=0\n",
    "j=0 \n",
    "k=0\n",
    "for i in range(8):\n",
    "    for j in range(8):\n",
    "        k1=cv2.rectangle(im,(bm[i][j][k],bm[i][j][k+1]),(bm[i+1][j+1][k],bm[i+1][j+1][k+1]),(0,255,0),3)\n",
    "        cv2.imwrite(\"rect.png\",k1)"
   ]
  },
  {
   "cell_type": "code",
   "execution_count": null,
   "metadata": {},
   "outputs": [],
   "source": []
  },
  {
   "cell_type": "code",
   "execution_count": 62,
   "metadata": {},
   "outputs": [],
   "source": [
    "li1=['a','b','c','d','e','f','g','h']\n",
    "li2=['8','7','6','5','4','3','2','1']\n"
   ]
  },
  {
   "cell_type": "code",
   "execution_count": 112,
   "metadata": {},
   "outputs": [],
   "source": [
    "def crop(img):\n",
    "    import cv2\n",
    "    x=398\n",
    "    y=395\n",
    "    w=56\n",
    "    h=56\n",
    "    crop_img = img[y:y+h, x:x+w]\n",
    "    cv2.imwrite(\"croppd.png\", crop_img)\n"
   ]
  },
  {
   "cell_type": "code",
   "execution_count": 110,
   "metadata": {},
   "outputs": [],
   "source": [
    "#label\n",
    "l=[]\n",
    "for i in range(8):\n",
    "    for j in range(8):\n",
    "         p=li1[i]+li2[j]\n",
    "         kl=bm[i][j]\n",
    "         thisdict ={\n",
    "\n",
    "         p:kl  \n",
    "        }\n",
    "          \n"
   ]
  },
  {
   "cell_type": "code",
   "execution_count": 111,
   "metadata": {},
   "outputs": [
    {
     "name": "stdout",
     "output_type": "stream",
     "text": [
      "{'h1': array([398., 395.], dtype=float32)}\n"
     ]
    }
   ],
   "source": [
    "print(thisdict)"
   ]
  },
  {
   "cell_type": "code",
   "execution_count": 109,
   "metadata": {},
   "outputs": [
    {
     "data": {
      "text/plain": [
       "dict_values([array([398., 395.], dtype=float32)])"
      ]
     },
     "execution_count": 109,
     "metadata": {},
     "output_type": "execute_result"
    }
   ],
   "source": [
    "thisdict.values()"
   ]
  },
  {
   "cell_type": "code",
   "execution_count": null,
   "metadata": {},
   "outputs": [],
   "source": []
  },
  {
   "cell_type": "code",
   "execution_count": null,
   "metadata": {},
   "outputs": [],
   "source": []
  }
 ],
 "metadata": {
  "kernelspec": {
   "display_name": "Python 3",
   "language": "python",
   "name": "python3"
  },
  "language_info": {
   "codemirror_mode": {
    "name": "ipython",
    "version": 3
   },
   "file_extension": ".py",
   "mimetype": "text/x-python",
   "name": "python",
   "nbconvert_exporter": "python",
   "pygments_lexer": "ipython3",
   "version": "3.5.2"
  }
 },
 "nbformat": 4,
 "nbformat_minor": 2
}
